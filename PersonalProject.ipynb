{
 "cells": [
  {
   "cell_type": "markdown",
   "metadata": {},
   "source": [
    "# Analysis of Ad-Hoc Communications Network\n",
    "Author: Yimeng Wang  \n",
    "Course: ECE143 2018Spring  \n",
    "Date: May 21, 2018  \n",
    "\n",
    "This project is to explore the coverage of random communication towers' rectangular footprint in a given rectangular region, and to solve the three computational problems: \n",
    "  * Given a random sequence of n communication towers, what's the resulting coverage? \n",
    "  * What is the resulting coverage relative to the desired total coverage area?\n",
    "  * How many communications towers are required before full coverage is obtained on averaged?\n",
    "\n",
    "I imported two Python fundamental packages which are:\n",
    "  * Numpy, a scientific package which contains powerful N-dimensional array object and sophisticated functions.\n",
    "  * Pyplot from matplotlib, a MATLAB-like plotting framework which satisfes the visualization requirement for this project.\n",
    " \n",
    "There are several key points when solving the problems so I wrote six helper functions:\n",
    "  * The x-axis position, y-axis position, width and length of the tower footprints are all integer based and are determined by the random uniform distribution. Thus, the function *uniform_gen* randomly determines the position and size of the newly generated rectangle.\n",
    "  * Any new towers intersecting with the existing coverage must be trimmed such that maximum remaining coverage area is retained. So the function *intersection* first check if new tower has overlapping footprint and then *trim* function does the work. The algorithm for trimming is to use *window_gen* function to give a list of [height, width] which can be mapped onto the newly generated fooprint. The list is sorted such that the value of area(height*width) is decreasing. When the window first find the rectangle with no intersection, it is the largest rectangle to be retained.\n",
    "  \n",
    "However there are also some limitations in this project:\n",
    "  * We assunme the sizes of total desired coverage and the tower footprint are all integer-based. But it is not very likely to happen in reality.\n",
    "  * The algorithm of trim takes a lot of runtime memories. A more efficient algorithm may be used."
   ]
  },
  {
   "cell_type": "code",
   "execution_count": 167,
   "metadata": {
    "collapsed": true
   },
   "outputs": [],
   "source": [
    "import numpy as np\n",
    "import matplotlib.pyplot as plt"
   ]
  },
  {
   "cell_type": "code",
   "execution_count": 168,
   "metadata": {},
   "outputs": [],
   "source": [
    "def uniform_gen(width, height):\n",
    "    '''\n",
    "    this function returns the width and height of the rectangular footprint \n",
    "    and the position of the footprint from a uniform distribution.\n",
    "    \n",
    "    :param: width>0, height>0\n",
    "    :type: integer\n",
    "    '''\n",
    "    assert isinstance(width, int)\n",
    "    assert width > 0\n",
    "    assert isinstance(height, int)\n",
    "    assert height > 0\n",
    "    \n",
    "    position = [] # lower-left corner of the rectangle\n",
    "    pos_y = int(np.random.uniform(0, height)) # y-axis position contained within the original footprint\n",
    "    position.append(pos_y)\n",
    "    pos_x = int(np.random.uniform(0, width)) # x-axis position contained within the original footprint\n",
    "    position.append(pos_x)\n",
    "    \n",
    "    rectangle = []\n",
    "    rec_h = int(np.random.uniform(1, height-pos_y)) # length of height restricted by x-axis position, can't be 0\n",
    "    rectangle.append(rec_h)\n",
    "    rec_w = int(np.random.uniform(1, width-pos_x)) # length of width restricted by x-axis position, can't be 0\n",
    "    rectangle.append(rec_w)\n",
    "\n",
    "    return position, rectangle\n"
   ]
  },
  {
   "cell_type": "code",
   "execution_count": 169,
   "metadata": {
    "collapsed": true
   },
   "outputs": [],
   "source": [
    "def intersection(pos, rec, A):\n",
    "    '''\n",
    "    this function checks whether the newly generated tower has a footprint \n",
    "    intersected with the existing coverage.\n",
    "    \n",
    "    :param: position, rectangle, A\n",
    "    :type: list, list, ndarray\n",
    "    '''    \n",
    "    \n",
    "    assert isinstance(pos, list)\n",
    "    assert isinstance(rec, list)\n",
    "    assert isinstance(A, np.ndarray)\n",
    "    \n",
    "    if np.all(A[pos[0]:pos[0]+rec[0],pos[1]:pos[1]+rec[1]] == 0):\n",
    "        return False\n",
    "    else:\n",
    "        return True\n",
    "    "
   ]
  },
  {
   "cell_type": "code",
   "execution_count": 170,
   "metadata": {
    "collapsed": true
   },
   "outputs": [],
   "source": [
    "def window_gen(rec):\n",
    "    '''\n",
    "    this function generates lists of rectangular windows \n",
    "    which can be mapped on the newly generated rectangular\n",
    "    footprint to help 'trim' function to do its task.\n",
    "    \n",
    "    :param: rec\n",
    "    :type: list\n",
    "    ''' \n",
    "    \n",
    "    assert isinstance(rec, list)\n",
    "    b=rec[0]\n",
    "    a=rec[1]\n",
    "    window=[]\n",
    "    \n",
    "    for i in range(a):\n",
    "        for j in range(b):\n",
    "            if i==a-1 and j==b-1:\n",
    "                break\n",
    "            window.append([j+1,i+1])\n",
    "    \n",
    "    # sort from smallest area to largest area\n",
    "    index=sorted(range(len(window)),key=lambda k:window[k][0]*window[k][1])\n",
    "    \n",
    "    # reverse so windows are from largest area to smallest area\n",
    "    output_window=[]\n",
    "    for i in range(len(window)):\n",
    "        output_window.append(window[index[len(window)-i-1]])\n",
    "    return output_window\n"
   ]
  },
  {
   "cell_type": "code",
   "execution_count": 171,
   "metadata": {
    "collapsed": true
   },
   "outputs": [],
   "source": [
    "def trim(pos, rec, A):\n",
    "    '''\n",
    "    this function trims the composite footprint such that the maximum remaining\n",
    "    coverage area is retained.\n",
    "    \n",
    "    :param: position, rectangle, A\n",
    "    :type: list, list, np.ndarray\n",
    "    '''    \n",
    "    assert isinstance(pos, list)\n",
    "    assert isinstance(rec, list)\n",
    "    assert isinstance(A, np.ndarray)\n",
    "    \n",
    "    window = window_gen(rec)\n",
    "    for i in range(len(window)):\n",
    "        for j in range(rec[0]-window[i][0]+1):\n",
    "            for k in range(rec[1]-window[i][1]+1):\n",
    "                if intersection([pos[0]+j,pos[1]+k],window[i],A):\n",
    "                    return [pos[0]+j,pos[1]+k], window[i] # return new position and size\n",
    "    return False # nothing to trim\n"
   ]
  },
  {
   "cell_type": "code",
   "execution_count": 172,
   "metadata": {
    "collapsed": true
   },
   "outputs": [],
   "source": [
    "def full(A):\n",
    "    '''\n",
    "    this function checks whether the total desired rectangle is fully covered.\n",
    "    \n",
    "    :param: A\n",
    "    :type: np.ndarray\n",
    "    '''    \n",
    "    assert isinstance(A, np.ndarray)   \n",
    "    \n",
    "    if np.all(A != 0):\n",
    "        return True\n",
    "    else:\n",
    "        return False\n",
    "    "
   ]
  },
  {
   "cell_type": "code",
   "execution_count": 173,
   "metadata": {
    "collapsed": true
   },
   "outputs": [],
   "source": [
    "def coverage(A):\n",
    "    '''\n",
    "    this calculates the current coverage.\n",
    "    \n",
    "    :param: A\n",
    "    :type: np.ndarray\n",
    "    ''' \n",
    "    assert isinstance(A, np.ndarray) \n",
    "    indexes = np.where(A!=0) # each index represents covered area of 1\n",
    "    return len(indexes[0])\n",
    "    "
   ]
  },
  {
   "cell_type": "code",
   "execution_count": 174,
   "metadata": {},
   "outputs": [
    {
     "name": "stdout",
     "output_type": "stream",
     "text": [
      "Please enter the height for your desired rectangular coverage: 5\n",
      "Please enter the width for your desired rectangular coverage: 5\n"
     ]
    }
   ],
   "source": [
    "h = raw_input(\"Please enter the height for your desired rectangular coverage: \")\n",
    "w = raw_input(\"Please enter the width for your desired rectangular coverage: \")\n",
    "h=int(h)\n",
    "w=int(w)"
   ]
  },
  {
   "cell_type": "code",
   "execution_count": 175,
   "metadata": {},
   "outputs": [
    {
     "data": {
      "image/png": "[encoded data removed]",
      "text/plain": [
       "<Figure size 432x288 with 1 Axes>"
      ]
     },
     "metadata": {},
     "output_type": "display_data"
    }
   ],
   "source": [
    "# original footprint\n",
    "A=np.zeros((h,w))\n",
    "my_cmap = plt.get_cmap('rainbow')\n",
    "my_cmap.set_under('white')\n",
    "plt.imshow(A, cmap=\"Greys\", origin='lower')\n",
    "plt.show()\n"
   ]
  },
  {
   "cell_type": "code",
   "execution_count": 176,
   "metadata": {},
   "outputs": [
    {
     "data": {
      "image/png": "[encoded data removed]",
      "text/plain": [
       "<Figure size 432x288 with 1 Axes>"
      ]
     },
     "metadata": {},
     "output_type": "display_data"
    },
    {
     "data": {
      "image/png": "[encoded data removed]",
      "text/plain": [
       "<Figure size 432x288 with 1 Axes>"
      ]
     },
     "metadata": {},
     "output_type": "display_data"
    },
    {
     "data": {
      "image/png": "[encoded data removed]",
      "text/plain": [
       "<Figure size 432x288 with 1 Axes>"
      ]
     },
     "metadata": {},
     "output_type": "display_data"
    },
    {
     "data": {
      "image/png": "[encoded data removed]",
      "text/plain": [
       "<Figure size 432x288 with 1 Axes>"
      ]
     },
     "metadata": {},
     "output_type": "display_data"
    },
    {
     "data": {
      "image/png": "[encoded data removed]",
      "text/plain": [
       "<Figure size 432x288 with 1 Axes>"
      ]
     },
     "metadata": {},
     "output_type": "display_data"
    },
    {
     "data": {
      "image/png": "[encoded data removed]",
      "text/plain": [
       "<Figure size 432x288 with 1 Axes>"
      ]
     },
     "metadata": {},
     "output_type": "display_data"
    },
    {
     "data": {
      "image/png": "[encoded data removed]",
      "text/plain": [
       "<Figure size 432x288 with 1 Axes>"
      ]
     },
     "metadata": {},
     "output_type": "display_data"
    },
    {
     "data": {
      "image/png": "[encoded data removed]",
      "text/plain": [
       "<Figure size 432x288 with 1 Axes>"
      ]
     },
     "metadata": {},
     "output_type": "display_data"
    },
    {
     "data": {
      "image/png": "[encoded data removed]",
      "text/plain": [
       "<Figure size 432x288 with 1 Axes>"
      ]
     },
     "metadata": {},
     "output_type": "display_data"
    },
    {
     "data": {
      "image/png": "[encoded data removed]",
      "text/plain": [
       "<Figure size 432x288 with 1 Axes>"
      ]
     },
     "metadata": {},
     "output_type": "display_data"
    },
    {
     "name": "stdout",
     "output_type": "stream",
     "text": [
      "The resulting resolved coverage is:  23\n",
      "The percentage of exisiting coverage to total coverage is:  92.00%\n"
     ]
    }
   ],
   "source": [
    "# solve problem 1 and 2\n",
    "\n",
    "n = 10\n",
    "i = 1\n",
    "while i<=n:\n",
    "    pos, rec = uniform_gen(w,h)\n",
    "    if intersection(pos,rec,A)== True:\n",
    "        if full(A[pos[0]:pos[0]+rec[0],pos[1]:pos[1]+rec[1]]) == True:\n",
    "            continue;\n",
    "        else:\n",
    "            new_pos, new_rec = trim(pos, rec, A)\n",
    "            A[new_pos[0]:new_pos[0]+new_rec[0],new_pos[1]:new_pos[1]+new_rec[1]] = i\n",
    "            \n",
    "    else:\n",
    "        A[pos[0]:pos[0]+rec[0],pos[1]:pos[1]+rec[1]] = i\n",
    "    i+=1\n",
    "    plt.imshow(A,cmap=my_cmap,origin='lower',vmin=0.01,extent=[0,w,0,h])\n",
    "    plt.show()\n",
    "\n",
    "print \"The resulting resolved coverage is: \",coverage(A)\n",
    "proportion = float(coverage(A))/float(w*h)\n",
    "print \"The percentage of exisiting coverage to total coverage is: \", \"{0:.2%}\".format(proportion)"
   ]
  },
  {
   "cell_type": "code",
   "execution_count": 178,
   "metadata": {},
   "outputs": [
    {
     "data": {
      "image/png": "[encoded data removed]",
      "text/plain": [
       "<Figure size 432x288 with 1 Axes>"
      ]
     },
     "metadata": {},
     "output_type": "display_data"
    },
    {
     "data": {
      "image/png": "[encoded data removed]",
      "text/plain": [
       "<Figure size 432x288 with 1 Axes>"
      ]
     },
     "metadata": {},
     "output_type": "display_data"
    },
    {
     "data": {
      "image/png": "[encoded data removed]",
      "text/plain": [
       "<Figure size 432x288 with 1 Axes>"
      ]
     },
     "metadata": {},
     "output_type": "display_data"
    },
    {
     "data": {
      "image/png": "[encoded data removed]",
      "text/plain": [
       "<Figure size 432x288 with 1 Axes>"
      ]
     },
     "metadata": {},
     "output_type": "display_data"
    },
    {
     "data": {
      "image/png": "[encoded data removed]",
      "text/plain": [
       "<Figure size 432x288 with 1 Axes>"
      ]
     },
     "metadata": {},
     "output_type": "display_data"
    },
    {
     "data": {
      "image/png": "[encoded data removed]",
      "text/plain": [
       "<Figure size 432x288 with 1 Axes>"
      ]
     },
     "metadata": {},
     "output_type": "display_data"
    },
    {
     "data": {
      "image/png": "[encoded data removed]",
      "text/plain": [
       "<Figure size 432x288 with 1 Axes>"
      ]
     },
     "metadata": {},
     "output_type": "display_data"
    },
    {
     "data": {
      "image/png": "[encoded data removed]",
      "text/plain": [
       "<Figure size 432x288 with 1 Axes>"
      ]
     },
     "metadata": {},
     "output_type": "display_data"
    },
    {
     "data": {
      "image/png": "[encoded data removed]",
      "text/plain": [
       "<Figure size 432x288 with 1 Axes>"
      ]
     },
     "metadata": {},
     "output_type": "display_data"
    },
    {
     "data": {
      "image/png": "[encoded data removed]",
      "text/plain": [
       "<Figure size 432x288 with 1 Axes>"
      ]
     },
     "metadata": {},
     "output_type": "display_data"
    },
    {
     "data": {
      "image/png": "[encoded data removed]",
      "text/plain": [
       "<Figure size 432x288 with 1 Axes>"
      ]
     },
     "metadata": {},
     "output_type": "display_data"
    },
    {
     "data": {
      "image/png": "[encoded data removed]",
      "text/plain": [
       "<Figure size 432x288 with 1 Axes>"
      ]
     },
     "metadata": {},
     "output_type": "display_data"
    },
    {
     "name": "stdout",
     "output_type": "stream",
     "text": [
      "The number of communication towers required for full coverage is:  12\n"
     ]
    }
   ],
   "source": [
    "# solve problem 3\n",
    "\n",
    "A=np.zeros((h,w))\n",
    "i=1\n",
    "while (full(A) == False):\n",
    "    pos, rec = uniform_gen(w,h)\n",
    "    if intersection(pos,rec,A)== True:\n",
    "        if full(A[pos[0]:pos[0]+rec[0],pos[1]:pos[1]+rec[1]]) == True:\n",
    "            continue;\n",
    "        else:\n",
    "            new_pos, new_rec = trim(pos, rec, A)\n",
    "            A[new_pos[0]:new_pos[0]+new_rec[0],new_pos[1]:new_pos[1]+new_rec[1]] = i\n",
    "            \n",
    "    else:\n",
    "        A[pos[0]:pos[0]+rec[0],pos[1]:pos[1]+rec[1]] = i\n",
    "    i+=1\n",
    "    plt.imshow(A,cmap=my_cmap,origin='lower',vmin=0.01,extent=[0,w,0,h])\n",
    "    plt.show()\n",
    "\n",
    "print \"The number of communication towers required for full coverage is: \", i-1  "
   ]
  },
  {
   "cell_type": "code",
   "execution_count": null,
   "metadata": {
    "collapsed": true
   },
   "outputs": [],
   "source": []
  }
 ],
 "metadata": {
  "kernelspec": {
   "display_name": "Python 2",
   "language": "python",
   "name": "python2"
  },
  "language_info": {
   "codemirror_mode": {
    "name": "ipython",
    "version": 2
   },
   "file_extension": ".py",
   "mimetype": "text/x-python",
   "name": "python",
   "nbconvert_exporter": "python",
   "pygments_lexer": "ipython2",
   "version": "2.7.14"
  }
 },
 "nbformat": 4,
 "nbformat_minor": 2
}
